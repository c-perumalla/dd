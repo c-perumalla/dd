{
 "cells": [
  {
   "cell_type": "markdown",
   "metadata": {},
   "source": [
    "# Explore data to evaluate if Classification of N delivery time bins works\n",
    "- Regression approaches have led to crappy models due to made features. (More information in the future may change this)\n",
    "- Explore if classification will work. \n",
    "    - Wait times apart from noise vary from [0, 120 minutes]\n",
    "    - Let's assume that we have an error tolerance parameter of e minutes. For example we have decided that it is okay to be off by 5 minutes\n",
    "    - We chop the predict variable range into time bins (categories) that are 5 minutes long and convert this into a classification task\n",
    "    - We predict to the customer given the input feature vector what is the estimated time frame we can expect their food: 0 - 5 minutes, 5 - 10 minutes, 20 - 25 minutes, 90 - 95 minutes.\n",
    "    - Caveats: We do not know the impact of a wrong class prediction. How off are we if we get a time bin prediction wrong?\n",
    "    - The goal of the work in this notebook is to evaluate if the features are strong enough to support a classification task"
   ]
  },
  {
   "cell_type": "code",
   "execution_count": 52,
   "metadata": {},
   "outputs": [],
   "source": [
    "# read data\n",
    "import os\n",
    "import pandas as pd\n",
    "DATA_READ_PATH = '/Users/calvinperumalla/personal project/Master - Data Scientist, ML Project 6'\n",
    "DATA_FILE = 'historical_data.csv'\n",
    "train_data_unfiltered = pd.read_csv(os.path.join(DATA_READ_PATH,DATA_FILE))"
   ]
  },
  {
   "cell_type": "code",
   "execution_count": 53,
   "metadata": {},
   "outputs": [],
   "source": [
    "# read feature description and load into a dictionary for easy look up ;)\n",
    "feature_description = pd.read_csv(os.path.join(DATA_READ_PATH, 'feature_description.csv'))[['feature', 'description']].drop_duplicates(subset='feature').to_dict()\n",
    "index = list(feature_description['description'].keys())\n",
    "feature_description = {feature_description['feature'][i]:feature_description['description'][i] for i in index}"
   ]
  },
  {
   "cell_type": "code",
   "execution_count": 54,
   "metadata": {},
   "outputs": [
    {
     "data": {
      "text/plain": [
       "16"
      ]
     },
     "execution_count": 54,
     "metadata": {},
     "output_type": "execute_result"
    }
   ],
   "source": [
    "len(feature_description)"
   ]
  },
  {
   "cell_type": "code",
   "execution_count": 55,
   "metadata": {},
   "outputs": [],
   "source": [
    "import datetime\n",
    "train_data_unfiltered['pick_up_time'] = (pd.to_datetime(train_data_unfiltered['actual_delivery_time']) - pd.to_datetime(train_data_unfiltered['created_at']))\n",
    "train_data_unfiltered['pick_up_time'] = train_data_unfiltered['pick_up_time'].apply(lambda x: x.total_seconds()) - train_data_unfiltered['estimated_order_place_duration'] - train_data_unfiltered['estimated_store_to_consumer_driving_duration']"
   ]
  },
  {
   "cell_type": "code",
   "execution_count": 56,
   "metadata": {},
   "outputs": [],
   "source": [
    "# to remove noise\n",
    "import numpy as np\n",
    "from tqdm import tqdm\n",
    "def filter_noise(df, features, noise_threshold=99):\n",
    "    tmp_df = None\n",
    "    for f in tqdm(features):\n",
    "        if tmp_df is None:\n",
    "            tmp_df = df\n",
    "        upper = np.percentile(tmp_df[f], noise_threshold)\n",
    "        tmp_df = tmp_df[tmp_df[f]< upper]\n",
    "    return tmp_df"
   ]
  },
  {
   "cell_type": "code",
   "execution_count": 57,
   "metadata": {},
   "outputs": [
    {
     "name": "stdout",
     "output_type": "stream",
     "text": [
      "full size: 197428\n",
      "after removing noise: 196829\n"
     ]
    }
   ],
   "source": [
    "print('full size: {}'.format(len(train_data_unfiltered)))\n",
    "train_data_unfiltered = train_data_unfiltered.dropna(subset=['pick_up_time'])\n",
    "train_data_unfiltered = train_data_unfiltered[train_data_unfiltered['pick_up_time']>0]\n",
    "print('after removing noise: {}'.format(len(train_data_unfiltered)))\n",
    "train_data_unfiltered.fillna(0, inplace=True)"
   ]
  },
  {
   "cell_type": "code",
   "execution_count": 58,
   "metadata": {},
   "outputs": [
    {
     "name": "stderr",
     "output_type": "stream",
     "text": [
      "100%|██████████| 1/1 [00:00<00:00, 43.70it/s]\n",
      "/Library/Frameworks/Python.framework/Versions/2.7/lib/python2.7/site-packages/ipykernel_launcher.py:5: SettingWithCopyWarning: \n",
      "A value is trying to be set on a copy of a slice from a DataFrame.\n",
      "Try using .loc[row_indexer,col_indexer] = value instead\n",
      "\n",
      "See the caveats in the documentation: http://pandas.pydata.org/pandas-docs/stable/indexing.html#indexing-view-versus-copy\n",
      "  \"\"\"\n"
     ]
    }
   ],
   "source": [
    "# Make Pick up time category\n",
    "train_data = filter_noise(train_data_unfiltered, ['pick_up_time'])\n",
    "num_bins = 5\n",
    "bin_size = (max(train_data['pick_up_time'])/num_bins) + 1\n",
    "train_data['pick_up_time_bin'] = (train_data['pick_up_time']/bin_size).astype(int)"
   ]
  },
  {
   "cell_type": "code",
   "execution_count": 77,
   "metadata": {},
   "outputs": [
    {
     "data": {
      "text/plain": [
       "market_id                                       float64\n",
       "store_id                                          int64\n",
       "order_protocol                                  float64\n",
       "total_items                                       int64\n",
       "subtotal                                          int64\n",
       "num_distinct_items                                int64\n",
       "min_item_price                                    int64\n",
       "max_item_price                                    int64\n",
       "total_onshift_dashers                           float64\n",
       "total_busy_dashers                              float64\n",
       "total_outstanding_orders                        float64\n",
       "estimated_order_place_duration                    int64\n",
       "estimated_store_to_consumer_driving_duration    float64\n",
       "pick_up_time                                    float64\n",
       "pick_up_time_bin                                  int64\n",
       "store_primary_encoded                             int64\n",
       "dtype: object"
      ]
     },
     "execution_count": 77,
     "metadata": {},
     "output_type": "execute_result"
    }
   ],
   "source": [
    "train_data.dtypes"
   ]
  },
  {
   "cell_type": "code",
   "execution_count": 59,
   "metadata": {},
   "outputs": [],
   "source": [
    "from matplotlib import pyplot as plt\n",
    "import numpy as np\n",
    "def get_bins(series, thresh=99.99, num_bins=20):\n",
    "    noise_bins = 4\n",
    "    noise_above = int(np.percentile(series, thresh))\n",
    "    upper = int(np.max(series))\n",
    "    bins_lower = list(range(0,noise_above,int(noise_above/(num_bins-noise_bins))))\n",
    "    #noise_ranges = list(range(noise_above, upper, int((upper-noise_above)/4)))\n",
    "    return bins_lower\n",
    "    \n",
    "def plot_hist(df, features, bin_dict=None):\n",
    "    bins = bin_dict\n",
    "    num_features = len(features)\n",
    "    print('plotting {} plots'.format(num_features))\n",
    "    if num_features == 1:\n",
    "        f = plt.hist(df[features[0]], bins=get_bins(df[features[0]]))\n",
    "        #f = plt.hist(df[features[0]])\n",
    "        plt.title('histogram of {}'.format(features[0]))\n",
    "        plt.xlabel(features[0])\n",
    "        plt.show()\n",
    "        return\n",
    "    if num_features == 2:\n",
    "        plt.figure(figsize=(10, 10))\n",
    "        plt.subplot(1,2,1)\n",
    "        f = plt.hist(df[features[0]], bins=get_bins(df[features[0]]))\n",
    "        plt.title('histogram of {}'.format(features[0]))\n",
    "        plt.xlabel(features[0])\n",
    "\n",
    "        plt.subplot(1,2,2)\n",
    "        f = plt.hist(df[features[1]], bins=get_bins(df[features[1]]))\n",
    "        plt.title('histogram of {}'.format(features[1]))\n",
    "        plt.xlabel(features[1])\n",
    "        plt.show()\n",
    "        plt.subplots_adjust(bottom=0.1, right=1.2)\n",
    "        return\n",
    "    if num_features%3 == 0:\n",
    "        num_rows = int(num_features/3)\n",
    "    else:\n",
    "        num_rows = int(num_features/3) + 1\n",
    "    fig, axes = plt.subplots(nrows=num_rows, ncols=3)\n",
    "    fig.subplots_adjust(left=2, right=3)\n",
    "    fig.set_size_inches(20, 10)\n",
    "    for ax, index in zip(axes.flatten(), range(len(features))):\n",
    "        ax.hist(df[features[index]], bins=get_bins(df[features[index]]))\n",
    "        ax.set(title = 'histogram of {}'.format(features[index]), xlabel=features[index])"
   ]
  },
  {
   "cell_type": "code",
   "execution_count": 60,
   "metadata": {},
   "outputs": [],
   "source": [
    "def plot_correlation(df, features):\n",
    "    num_features = len(features)\n",
    "    print('plotting {} plots'.format(num_features))\n",
    "    if num_features == 1:\n",
    "        f = plt.scatter(df[features[0]], df['pick_up_time'])\n",
    "        #f = plt.hist(df[features[0]])\n",
    "        plt.title('correlation of {} with pick up time'.format(features[0]))\n",
    "        plt.xlabel(features[0])\n",
    "        plt.show()\n",
    "        return\n",
    "    if num_features == 2:\n",
    "        f = plt.scatter(df[features[0]], df['pick_up_time'])\n",
    "        #f = plt.hist(df[features[0]])\n",
    "        plt.title('correlation of {} with pick up time'.format(features[0]))\n",
    "        plt.xlabel(features[0])\n",
    "        plt.show()\n",
    "\n",
    "        plt.subplot(1,2,2)\n",
    "        f = plt.scatter(df[features[1]], df['pick_up_time'])\n",
    "        #f = plt.hist(df[features[0]])\n",
    "        plt.title('correlation of {} with pick up time'.format(features[1]))\n",
    "        plt.xlabel(features[1])\n",
    "        plt.show()\n",
    "        #plt.subplots_adjust(bottom=0.1, right=1.2)\n",
    "        return\n",
    "    if num_features%3 == 0:\n",
    "        num_rows = int(num_features/3)\n",
    "    else:\n",
    "        num_rows = int(num_features/3) + 1\n",
    "    fig, axes = plt.subplots(nrows=num_rows, ncols=3)\n",
    "    fig.subplots_adjust(left=2, right=3)\n",
    "    fig.set_size_inches(20, 10)\n",
    "    for ax, index in zip(axes.flatten(), range(len(features))):\n",
    "        ax.scatter(df[features[index]], df['pick_up_time'])\n",
    "        ax.set(title = 'correlation of {} with pick up time'.format(features[index]), xlabel=features[index])"
   ]
  },
  {
   "cell_type": "code",
   "execution_count": 61,
   "metadata": {},
   "outputs": [
    {
     "data": {
      "text/plain": [
       "Counter({0: 35045, 1: 96316, 2: 45873, 3: 13741, 4: 3884})"
      ]
     },
     "execution_count": 61,
     "metadata": {},
     "output_type": "execute_result"
    }
   ],
   "source": [
    "from collections import Counter\n",
    "Counter(train_data['pick_up_time_bin'])"
   ]
  },
  {
   "cell_type": "code",
   "execution_count": 62,
   "metadata": {},
   "outputs": [
    {
     "data": {
      "image/png": "[encoded data removed]",
      "text/plain": [
       "<matplotlib.figure.Figure at 0x10dac7710>"
      ]
     },
     "metadata": {
      "needs_background": "light"
     },
     "output_type": "display_data"
    }
   ],
   "source": [
    "train_data = train_data.fillna(value=0)\n",
    "# quick delivery\n",
    "quick_bin = train_data[train_data['pick_up_time_bin']==1]\n",
    "\n",
    "# late delivery\n",
    "late_bin = train_data[train_data['pick_up_time_bin']==2]\n",
    "\n",
    "from matplotlib import pyplot as plt\n",
    "feature = 'market_id'\n",
    "plt.figure(figsize=(5, 5))\n",
    "plt.hist(quick_bin[feature])\n",
    "plt.xlabel(feature)\n",
    "plt.grid()\n",
    "plt.show()"
   ]
  },
  {
   "cell_type": "code",
   "execution_count": 63,
   "metadata": {},
   "outputs": [
    {
     "data": {
      "image/png": "[encoded data removed]",
      "text/plain": [
       "<matplotlib.figure.Figure at 0x10cbe8490>"
      ]
     },
     "metadata": {
      "needs_background": "light"
     },
     "output_type": "display_data"
    }
   ],
   "source": [
    "plt.figure(figsize=(5, 5))\n",
    "plt.hist(late_bin[feature])\n",
    "plt.xlabel(feature)\n",
    "plt.grid()\n",
    "plt.show()"
   ]
  },
  {
   "cell_type": "markdown",
   "metadata": {},
   "source": [
    "## Approach: Random forest\n",
    "- Throw all features at it and see what happens"
   ]
  },
  {
   "cell_type": "code",
   "execution_count": 64,
   "metadata": {
    "scrolled": false
   },
   "outputs": [
    {
     "data": {
      "text/plain": [
       "market_id                                        float64\n",
       "store_id                                           int64\n",
       "store_primary_category                          category\n",
       "order_protocol                                   float64\n",
       "total_items                                        int64\n",
       "subtotal                                           int64\n",
       "num_distinct_items                                 int64\n",
       "min_item_price                                     int64\n",
       "max_item_price                                     int64\n",
       "total_onshift_dashers                            float64\n",
       "total_busy_dashers                               float64\n",
       "total_outstanding_orders                         float64\n",
       "estimated_order_place_duration                     int64\n",
       "estimated_store_to_consumer_driving_duration     float64\n",
       "pick_up_time                                     float64\n",
       "pick_up_time_bin                                   int64\n",
       "dtype: object"
      ]
     },
     "execution_count": 64,
     "metadata": {},
     "output_type": "execute_result"
    }
   ],
   "source": [
    "train_data = train_data.drop(labels=['actual_delivery_time', 'created_at'], axis=1)\n",
    "train_data['store_primary_category'] = train_data['store_primary_category'].astype('category')\n",
    "train_data.dtypes"
   ]
  },
  {
   "cell_type": "code",
   "execution_count": 65,
   "metadata": {},
   "outputs": [],
   "source": [
    "from sklearn import preprocessing\n",
    "le = preprocessing.LabelEncoder()\n",
    "le.fit(train_data['store_primary_category'])\n",
    "train_data['store_primary_encoded'] = le.transform(train_data['store_primary_category'])\n",
    "train_data = train_data.drop('store_primary_category', axis=1)"
   ]
  },
  {
   "cell_type": "code",
   "execution_count": 66,
   "metadata": {},
   "outputs": [
    {
     "data": {
      "text/plain": [
       "pandas.core.frame.DataFrame"
      ]
     },
     "execution_count": 66,
     "metadata": {},
     "output_type": "execute_result"
    }
   ],
   "source": [
    "type(train_data)"
   ]
  },
  {
   "cell_type": "code",
   "execution_count": 15,
   "metadata": {},
   "outputs": [
    {
     "name": "stderr",
     "output_type": "stream",
     "text": [
      "0it [00:00, ?it/s]/Library/Frameworks/Python.framework/Versions/2.7/lib/python2.7/site-packages/ipykernel_launcher.py:17: DataConversionWarning: A column-vector y was passed when a 1d array was expected. Please change the shape of y to (n_samples,), for example using ravel().\n",
      "5it [00:18,  3.76s/it]\n"
     ]
    }
   ],
   "source": [
    "from sklearn.model_selection import KFold\n",
    "from sklearn.ensemble import RandomForestClassifier\n",
    "\n",
    "kfold = KFold(n_splits=5)\n",
    "model_predictions = {}\n",
    "model_performance = {}\n",
    "model_run_index = 0\n",
    "X = train_data.drop(['pick_up_time', 'pick_up_time_bin'], axis=1)\n",
    "y = train_data[['pick_up_time_bin']]\n",
    "rand_forest = RandomForestClassifier()\n",
    "for train_index, test_index in tqdm(kfold.split(X)):\n",
    "    model_run_index += 1\n",
    "    train_x = X.iloc[train_index]\n",
    "    train_y = y.iloc[train_index]\n",
    "    #print(any([any(np.isnan(inst)) for inst in train_x]))\n",
    "    #print(any([np.isnan(inst) for inst in train_y]), 'y')\n",
    "    model = rand_forest.fit(train_x, train_y)\n",
    "    test_x = X.iloc[test_index]\n",
    "    test_y = y.iloc[test_index]\n",
    "    predictions = model.predict(test_x)\n",
    "    model_name = 'run_{}'.format(model_run_index)\n",
    "    model_predictions[model_name] = zip(test_y.values, predictions)\n",
    "    model_performance[model_name] = model.score(test_x, test_y)"
   ]
  },
  {
   "cell_type": "code",
   "execution_count": 16,
   "metadata": {},
   "outputs": [
    {
     "data": {
      "text/plain": [
       "{'run_1': 0.45712306271169045,\n",
       " 'run_2': 0.4614338499435492,\n",
       " 'run_3': 0.46110027712203633,\n",
       " 'run_4': 0.46340962742481784,\n",
       " 'run_5': 0.4611121090041313}"
      ]
     },
     "execution_count": 16,
     "metadata": {},
     "output_type": "execute_result"
    }
   ],
   "source": [
    "# r2 score \n",
    "model_performance"
   ]
  },
  {
   "cell_type": "code",
   "execution_count": 17,
   "metadata": {},
   "outputs": [
    {
     "name": "stdout",
     "output_type": "stream",
     "text": [
      "bin size in minutes: 18.53\n",
      "total_accuracy: 0.461112109004\n",
      "total predictions 38971\n",
      "total number of mis predictions: 21001\n",
      "total number of early mispredictions:12939\n",
      "total number of late mispredictions:8062\n",
      "avg error in early errors: 18.53 minutes\n",
      "avg error in late errors: 37.06 minutes\n"
     ]
    }
   ],
   "source": [
    "total = 0\n",
    "mispredicitions = []\n",
    "for true, pred in model_predictions['run_5']:\n",
    "    total += 1\n",
    "    if true != pred:\n",
    "        mispredicitions.append(true-pred)\n",
    "        \n",
    "        \n",
    "print('bin size in minutes: {}'.format(bin_size/60.0))\n",
    "print('total_accuracy: {}'.format(1.0*(total - len(mispredicitions))/total))\n",
    "print('total predictions {}'.format(total))\n",
    "print('total number of mis predictions: {}'.format(len(mispredicitions)))\n",
    "mis_np = np.array(mispredicitions)\n",
    "early = mis_np[mis_np>0]\n",
    "late = mis_np[mis_np<0]\n",
    "print('total number of early mispredictions:{}'.format(len(early)))\n",
    "print('total number of late mispredictions:{}'.format(len(late)))\n",
    "early_avg = sum(early)/len(early) * (bin_size * 1/60.0) \n",
    "late_avg = -1* (sum(late)/len(late) * (bin_size * 1/60.0))\n",
    "print('avg error in early errors: {} minutes'.format(early_avg))\n",
    "print('avg error in late errors: {} minutes'.format(late_avg))"
   ]
  },
  {
   "cell_type": "code",
   "execution_count": 18,
   "metadata": {},
   "outputs": [
    {
     "data": {
      "text/plain": [
       "[(0.028653350631821645, 'market_id'),\n",
       " (0.09804357698874484, 'store_id'),\n",
       " (0.031986517885318325, 'order_protocol'),\n",
       " (0.03280598791408395, 'total_items'),\n",
       " (0.11793343977198438, 'subtotal'),\n",
       " (0.029462322009389176, 'num_distinct_items'),\n",
       " (0.09433356453704148, 'min_item_price'),\n",
       " (0.09506554966252886, 'max_item_price'),\n",
       " (0.08835460577958858, 'total_onshift_dashers'),\n",
       " (0.08123466909651901, 'total_busy_dashers'),\n",
       " (0.10330707859020598, 'total_outstanding_orders'),\n",
       " (0.00968171552115548, 'estimated_order_place_duration'),\n",
       " (0.11971750216629959, 'estimated_store_to_consumer_driving_duration'),\n",
       " (0.06942011944531867, 'store_primary_encoded')]"
      ]
     },
     "execution_count": 18,
     "metadata": {},
     "output_type": "execute_result"
    }
   ],
   "source": [
    "zip(model.feature_importances_, X.columns)"
   ]
  },
  {
   "cell_type": "markdown",
   "metadata": {},
   "source": [
    "## Approach: Neural Network\n"
   ]
  },
  {
   "cell_type": "code",
   "execution_count": 19,
   "metadata": {},
   "outputs": [],
   "source": [
    "from sklearn.neural_network import MLPClassifier\n",
    "clf = MLPClassifier(alpha=1e-5, activation='logistic', hidden_layer_sizes=(100, 3))"
   ]
  },
  {
   "cell_type": "code",
   "execution_count": 20,
   "metadata": {},
   "outputs": [
    {
     "name": "stderr",
     "output_type": "stream",
     "text": [
      "0it [00:00, ?it/s]/Library/Frameworks/Python.framework/Versions/2.7/lib/python2.7/site-packages/sklearn/neural_network/multilayer_perceptron.py:912: DataConversionWarning: A column-vector y was passed when a 1d array was expected. Please change the shape of y to (n_samples, ), for example using ravel().\n",
      "  y = column_or_1d(y, warn=True)\n",
      "5it [02:05, 25.04s/it]\n"
     ]
    }
   ],
   "source": [
    "from sklearn.model_selection import KFold\n",
    "from sklearn.ensemble import RandomForestClassifier\n",
    "\n",
    "kfold = KFold(n_splits=5)\n",
    "model_predictions = {}\n",
    "model_performance = {}\n",
    "model_run_index = 0\n",
    "X = train_data.drop(['pick_up_time', 'pick_up_time_bin'], axis=1)\n",
    "y = train_data[['pick_up_time_bin']]\n",
    "rand_forest = RandomForestClassifier()\n",
    "for train_index, test_index in tqdm(kfold.split(X)):\n",
    "    model_run_index += 1\n",
    "    train_x = X.iloc[train_index]\n",
    "    train_y = y.iloc[train_index]\n",
    "    #print(any([any(np.isnan(inst)) for inst in train_x]))\n",
    "    #print(any([np.isnan(inst) for inst in train_y]), 'y')\n",
    "    model = clf.fit(train_x, train_y)\n",
    "    test_x = X.iloc[test_index]\n",
    "    test_y = y.iloc[test_index]\n",
    "    predictions = model.predict(test_x)\n",
    "    model_name = 'run_{}'.format(model_run_index)\n",
    "    model_predictions[model_name] = zip(test_y.values, predictions)\n",
    "    model_performance[model_name] = model.score(test_x, test_y)"
   ]
  },
  {
   "cell_type": "code",
   "execution_count": 21,
   "metadata": {},
   "outputs": [
    {
     "data": {
      "text/plain": [
       "{'run_1': 0.500076978343426,\n",
       " 'run_2': 0.49910191932669606,\n",
       " 'run_3': 0.49828081699681825,\n",
       " 'run_4': 0.5040028738581546,\n",
       " 'run_5': 0.4995252880346925}"
      ]
     },
     "execution_count": 21,
     "metadata": {},
     "output_type": "execute_result"
    }
   ],
   "source": [
    "# r2 score \n",
    "model_performance"
   ]
  },
  {
   "cell_type": "code",
   "execution_count": 22,
   "metadata": {},
   "outputs": [
    {
     "name": "stdout",
     "output_type": "stream",
     "text": [
      "bin size in minutes: 18.53\n",
      "total_accuracy: 0.499525288035\n",
      "total predictions 38971\n",
      "total number of mis predictions: 19504\n",
      "total number of early mispredictions:11077\n",
      "total number of late mispredictions:8427\n",
      "avg error in early errors: 18.53 minutes\n",
      "avg error in late errors: 37.06 minutes\n"
     ]
    }
   ],
   "source": [
    "total = 0\n",
    "mispredicitions = []\n",
    "for true, pred in model_predictions['run_5']:\n",
    "    total += 1\n",
    "    if true != pred:\n",
    "        mispredicitions.append(true-pred)\n",
    "        \n",
    "        \n",
    "print('bin size in minutes: {}'.format(bin_size/60.0))\n",
    "print('total_accuracy: {}'.format(1.0*(total - len(mispredicitions))/total))\n",
    "print('total predictions {}'.format(total))\n",
    "print('total number of mis predictions: {}'.format(len(mispredicitions)))\n",
    "mis_np = np.array(mispredicitions)\n",
    "early = mis_np[mis_np>0]\n",
    "late = mis_np[mis_np<0]\n",
    "print('total number of early mispredictions:{}'.format(len(early)))\n",
    "print('total number of late mispredictions:{}'.format(len(late)))\n",
    "early_avg = sum(early)/len(early) * (bin_size * 1/60.0) \n",
    "late_avg = -1* (sum(late)/len(late) * (bin_size * 1/60.0))\n",
    "print('avg error in early errors: {} minutes'.format(early_avg))\n",
    "print('avg error in late errors: {} minutes'.format(late_avg))"
   ]
  },
  {
   "cell_type": "code",
   "execution_count": 23,
   "metadata": {},
   "outputs": [
    {
     "data": {
      "text/plain": [
       "market_id                                       float64\n",
       "store_id                                          int64\n",
       "order_protocol                                  float64\n",
       "total_items                                       int64\n",
       "subtotal                                          int64\n",
       "num_distinct_items                                int64\n",
       "min_item_price                                    int64\n",
       "max_item_price                                    int64\n",
       "total_onshift_dashers                           float64\n",
       "total_busy_dashers                              float64\n",
       "total_outstanding_orders                        float64\n",
       "estimated_order_place_duration                    int64\n",
       "estimated_store_to_consumer_driving_duration    float64\n",
       "pick_up_time                                    float64\n",
       "pick_up_time_bin                                  int64\n",
       "store_primary_encoded                             int64\n",
       "dtype: object"
      ]
     },
     "execution_count": 23,
     "metadata": {},
     "output_type": "execute_result"
    }
   ],
   "source": [
    "train_data.dtypes"
   ]
  },
  {
   "cell_type": "markdown",
   "metadata": {},
   "source": [
    "# PREDICTION ON UNSEEN TEST SET"
   ]
  },
  {
   "cell_type": "code",
   "execution_count": 67,
   "metadata": {},
   "outputs": [],
   "source": [
    "PREDICT_FILE = 'predict_data.csv'\n",
    "predict_set = pd.read_csv(os.path.join(DATA_READ_PATH, PREDICT_FILE))"
   ]
  },
  {
   "cell_type": "code",
   "execution_count": 28,
   "metadata": {},
   "outputs": [
    {
     "data": {
      "text/plain": [
       "market_id                                       float64\n",
       "created_at                                       object\n",
       "store_id                                          int64\n",
       "store_primary_category                           object\n",
       "order_protocol                                  float64\n",
       "total_items                                       int64\n",
       "subtotal                                          int64\n",
       "num_distinct_items                                int64\n",
       "min_item_price                                    int64\n",
       "max_item_price                                    int64\n",
       "total_onshift_dashers                           float64\n",
       "total_busy_dashers                              float64\n",
       "total_outstanding_orders                        float64\n",
       "estimated_order_place_duration                    int64\n",
       "estimated_store_to_consumer_driving_duration    float64\n",
       "delivery_id                                       int64\n",
       "platform                                         object\n",
       "dtype: object"
      ]
     },
     "execution_count": 28,
     "metadata": {},
     "output_type": "execute_result"
    }
   ],
   "source": [
    "predict_set.dtypes"
   ]
  },
  {
   "cell_type": "code",
   "execution_count": 79,
   "metadata": {},
   "outputs": [],
   "source": [
    "# drop un related features\n",
    "features_df = predict_set.drop(['created_at', 'delivery_id', 'platform'], axis=1)\n",
    "features_df = features_df.fillna(value=0)\n",
    "features_df['store_primary_encoded'] = le.transform(features_df['store_primary_category'])\n",
    "features_df = features_df.drop('store_primary_category', axis=1)"
   ]
  },
  {
   "cell_type": "code",
   "execution_count": 101,
   "metadata": {},
   "outputs": [],
   "source": [
    "features_np = np.array(features_df)"
   ]
  },
  {
   "cell_type": "code",
   "execution_count": 102,
   "metadata": {},
   "outputs": [],
   "source": [
    "predictions = model.predict(features_np)"
   ]
  },
  {
   "cell_type": "code",
   "execution_count": 113,
   "metadata": {},
   "outputs": [],
   "source": [
    "predictions_second = (predictions + 1) * 1111.8"
   ]
  },
  {
   "cell_type": "code",
   "execution_count": 122,
   "metadata": {},
   "outputs": [],
   "source": [
    "from datetime import timedelta\n",
    "predict_set['predicted_delivery_time'] = pd.to_datetime(predict_set['created_at']) + map(lambda x: timedelta(seconds=x), predictions_second)"
   ]
  },
  {
   "cell_type": "code",
   "execution_count": 125,
   "metadata": {},
   "outputs": [],
   "source": [
    "predict_set.to_csv(os.path.join(DATA_READ_PATH, 'predictions.csv'))"
   ]
  }
 ],
 "metadata": {
  "kernelspec": {
   "display_name": "Python 3",
   "language": "python",
   "name": "python3"
  },
  "language_info": {
   "codemirror_mode": {
    "name": "ipython",
    "version": 2
   },
   "file_extension": ".py",
   "mimetype": "text/x-python",
   "name": "python",
   "nbconvert_exporter": "python",
   "pygments_lexer": "ipython2",
   "version": "2.7.14"
  }
 },
 "nbformat": 4,
 "nbformat_minor": 2
}
